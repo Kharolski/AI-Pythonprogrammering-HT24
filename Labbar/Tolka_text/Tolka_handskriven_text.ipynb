{
 "cells": [
  {
   "cell_type": "markdown",
   "metadata": {},
   "source": [
    "# Projekt: **Tolka handskriven text**\n",
    "---\n",
    "### ***Problembeskrivning***\n",
    "Målet med detta projekt är att utveckla en maskininlärningsmodell som kan tolka och klassificera handskriven text.\n",
    "</br>Specifikt vill jag skapa en modell som kan identifiera handskrivna siffror från 0 till 9. \n",
    "</br>Detta har många praktiska tillämpningar, från att automatisera postsortering till att digitalisera handskrivna dokument.\n",
    "\n",
    "### ***Data och Datakälla***\n",
    "För detta projekt har jag valt att använda MNIST-datasetet.\n",
    "</br>MNIST-datasetet finns tillgängligt via flera källor, men jag kommer att använda det via scikit-learn biblioteket.\n",
    "</br>Detta dataset är standard för att träna och testa modeller inom maskininlärning för handskriftsigenkänning.\n",
    "\n",
    "### ***Lär känna ditt data***\n",
    "För att lära känna datan, utförde jag följande analys:\n",
    "1. *Är det komplett?*"
   ]
  },
  {
   "cell_type": "code",
   "execution_count": 1,
   "metadata": {},
   "outputs": [],
   "source": [
    "from sklearn.datasets import fetch_openml\n",
    "import numpy as np\n",
    "\n",
    "# Lada data\n",
    "# Obs: (as_frame=False) används då returneras data som NumPy-arrayer istället för Pandas DataFrames\n",
    "X, y = fetch_openml('mnist_784', version=1, return_X_y=True, as_frame=False)\n"
   ]
  },
  {
   "cell_type": "code",
   "execution_count": 2,
   "metadata": {},
   "outputs": [
    {
     "name": "stdout",
     "output_type": "stream",
     "text": [
      "Datasetets form: antal bilder 70000, pixlar per bild 784\n"
     ]
    }
   ],
   "source": [
    "# Är det komplett?\n",
    "print(f\"Datasetets form: antal bilder {X.shape[0]}, pixlar per bild {X.shape[1]}\")"
   ]
  },
  {
   "cell_type": "code",
   "execution_count": 3,
   "metadata": {},
   "outputs": [
    {
     "data": {
      "image/png": "[encoded data removed]",
      "text/plain": [
       "<Figure size 600x400 with 5 Axes>"
      ]
     },
     "metadata": {},
     "output_type": "display_data"
    }
   ],
   "source": [
    "import matplotlib.pyplot as plt\n",
    "\n",
    "# Några exempel på bilder\n",
    "fig, axes = plt.subplots(1, 5, figsize=(6, 4))\n",
    "for i, ax in enumerate(axes.flat):\n",
    "    ax.imshow(X[i].reshape(28, 28), cmap='gray')\n",
    "    ax.set_title(f\"num: {y[i]}\")\n",
    "    ax.axis('off')\n",
    "plt.tight_layout()\n",
    "plt.show()"
   ]
  },
  {
   "cell_type": "markdown",
   "metadata": {},
   "source": [
    "2. *Det finns inga null-värden i datasetet*"
   ]
  },
  {
   "cell_type": "code",
   "execution_count": 4,
   "metadata": {},
   "outputs": [
    {
     "name": "stdout",
     "output_type": "stream",
     "text": [
      "Du har inga null-värde\n"
     ]
    }
   ],
   "source": [
    "# Har du null-värden?\n",
    "is_null = np.isnan(X).any()\n",
    "print(\"Du har inga null-värde\" if not is_null else \"En eller fler rader har null-värde\")\n"
   ]
  },
  {
   "cell_type": "markdown",
   "metadata": {},
   "source": [
    "3. *Har du extrema värden?*"
   ]
  },
  {
   "cell_type": "code",
   "execution_count": 5,
   "metadata": {},
   "outputs": [
    {
     "name": "stdout",
     "output_type": "stream",
     "text": [
      "Min pixel-värde: 0\n",
      "Max pixel-värde: 255\n",
      "Bilderna är i gråskala\n"
     ]
    }
   ],
   "source": [
    "# Kontrollera extremvärden\n",
    "print(\"Min pixel-värde:\", X.min())\n",
    "print(\"Max pixel-värde:\", X.max())\n",
    "\n",
    "# kontrollera om bilderna är i RGB-format\n",
    "print(f\"Bilderna är i RGB-format\" if len(X.shape) == 3 and X.shape[-1] == 3 else \"Bilderna är i gråskala\")\n"
   ]
  },
  {
   "cell_type": "markdown",
   "metadata": {},
   "source": [
    "4. *Vilka datatyper har datat?*"
   ]
  },
  {
   "cell_type": "code",
   "execution_count": 6,
   "metadata": {},
   "outputs": [
    {
     "name": "stdout",
     "output_type": "stream",
     "text": [
      "X (bilddata) datatyp: int64\n",
      "y (etiketter) datatyp: object\n"
     ]
    }
   ],
   "source": [
    "print(f\"X (bilddata) datatyp: {X.dtype}\")\n",
    "print(f\"y (etiketter) datatyp: {y.dtype}\")"
   ]
  },
  {
   "cell_type": "markdown",
   "metadata": {},
   "source": [
    "5. *Vilka fält i ditt data vill du använda dig av?*"
   ]
  },
  {
   "cell_type": "code",
   "execution_count": 7,
   "metadata": {},
   "outputs": [
    {
     "name": "stdout",
     "output_type": "stream",
     "text": [
      "X: 784 pixelvärden per bild\n",
      "y: Etiketterna ['0' '1' '2' '3' '4' '5' '6' '7' '8' '9']\n"
     ]
    }
   ],
   "source": [
    "print(f\"X: {X.shape[1]} pixelvärden per bild\")\n",
    "print(f\"y: Etiketterna {np.unique(y)}\")"
   ]
  },
  {
   "cell_type": "markdown",
   "metadata": {},
   "source": [
    "6. *Hur kan du konvertera alla fält du vill använda till ett numeriskt format?*\n",
    " \n",
    "    - Pixelvärdena är redan i numeriskt format, men vi behöver normalisera dem så att varje pixel har \n",
    "        </br>ett värde mellan 0 och 1 genom att dividera med 255, vilket förbättrar noggrannheten under träningen.\n",
    "    - Etiketterna behöver konverteras från strängar till heltal.\n"
   ]
  },
  {
   "cell_type": "code",
   "execution_count": 8,
   "metadata": {},
   "outputs": [
    {
     "name": "stdout",
     "output_type": "stream",
     "text": [
      "X: Normaliserat till intervallet [0, 1]. Exp: [0. 0. 0. 0. 0.]\n"
     ]
    }
   ],
   "source": [
    "# Vi delar med 255 eftersom det högsta värdet i ett gråskalebild är 255\n",
    "# Detta hjälper till att standardisera värdena, vilket förbättrar träningsprocessen\n",
    "X_normalized = X / 255.0\n",
    "print(f\"X: Normaliserat till intervallet [0, 1]. Exp: {X_normalized[0][:5]}\")"
   ]
  },
  {
   "cell_type": "code",
   "execution_count": 11,
   "metadata": {},
   "outputs": [
    {
     "name": "stdout",
     "output_type": "stream",
     "text": [
      "Konvertera y till heltal. Exp: [5 0 4 1 9]\n"
     ]
    }
   ],
   "source": [
    "y_num = y.astype(int)\n",
    "print(f\"Konvertera y till heltal. Exp: {y_num[:5]}\")"
   ]
  },
  {
   "cell_type": "markdown",
   "metadata": {},
   "source": [
    "### ***Dataegenskaper***\n",
    "Efter små steg som beskrivs ovan har jag dataegenskaper:\n",
    "- Antal bilder: 70000 \n",
    "- Bildstorlek:  28x28 pixlar, 784 pixlar per bild\n",
    "- Gråskalevärden: 0-255\n",
    "- 10 klasser (siffror 0-9)\n",
    "\n",
    "### ***Typ av problem***\n",
    "Detta är ett klassificeringsproblem och vårt data är labeled, vilket betyder att vi har färdiga svar att mata vår modell med under träning. Detta gör det till ett övervakat (supervised) inlärningsproblem.\n",
    "\n",
    "### ***Lösning insats***\n",
    "För att lösa detta problem kommer jag att använda en Convolutional Neural Network (CNN), som är särskilt effektiv för bildklassificeringsuppgifter\n",
    "</br>eftersom den utnyttjar rumsliga hierarkier i bilder, vilket gör att den kan lära sig komplexa mönster och strukturer i bilddata och \n",
    "</br>TensorFlow och Keras för att implementera och träna vår modell. \n",
    "</br>Dessa bibliotek erbjuder en hög nivå av flexibilitet och effektivitet för djupinlärning.\n",
    "\n",
    " (genom konvolutionella filter).\n",
    "\n",
    "### ***Framtida steg***\n",
    "- Implementera och träna CNN-modell\n",
    "- Utvärdera modellen\n",
    "- Finjustera modellen för bättre resultat\n",
    "- Testa modellen på nya, osedda handskrivna siffror"
   ]
  }
 ],
 "metadata": {
  "kernelspec": {
   "display_name": "Python 3",
   "language": "python",
   "name": "python3"
  },
  "language_info": {
   "codemirror_mode": {
    "name": "ipython",
    "version": 3
   },
   "file_extension": ".py",
   "mimetype": "text/x-python",
   "name": "python",
   "nbconvert_exporter": "python",
   "pygments_lexer": "ipython3",
   "version": "3.12.4"
  }
 },
 "nbformat": 4,
 "nbformat_minor": 2
}
