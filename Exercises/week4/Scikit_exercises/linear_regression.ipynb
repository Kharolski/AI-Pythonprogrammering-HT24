{
 "cells": [
  {
   "cell_type": "markdown",
   "metadata": {},
   "source": [
    "# **Linjär Regression med Scikit-learn: En Nybörjarguide**\n",
    "---\n",
    "\n",
    "Linjär regression är en grundläggande statistisk och maskininlärningsmetod som används för att förutsäga ett kontinuerligt utfall baserat på en eller flera prediktorvariabler. I denna guide kommer vi att utforska hur man implementerar linjär regression med Scikit-learn.\n",
    "\n",
    "### *Vad är Linjär Regression?*\n",
    "\n",
    "*Linjär regression* försöker modellera förhållandet mellan två variabler genom att passa en linjär ekvation till observerad data. \n",
    "</br>En variabel anses vara en förklarande variabel (oberoende variabel), och den andra anses vara en beroende variabel.\n",
    "\n",
    "Den grundläggande idén är att hitta den bästa raka linjen som passar datan.\n",
    "\n",
    "---"
   ]
  },
  {
   "cell_type": "markdown",
   "metadata": {},
   "source": [
    "*Låt oss börja med att importera de nödvändiga biblioteken och skapa lite exempel-data.*"
   ]
  },
  {
   "cell_type": "markdown",
   "metadata": {},
   "source": [
    "### 1. Importera bibliotek"
   ]
  },
  {
   "cell_type": "code",
   "execution_count": 3,
   "metadata": {},
   "outputs": [],
   "source": [
    "# Importera nödvändiga bibliotek\n",
    "import numpy as np\n",
    "import matplotlib.pyplot as plt\n",
    "from sklearn.linear_model import LinearRegression\n",
    "from sklearn.model_selection import train_test_split\n",
    "from sklearn.metrics import mean_squared_error\n",
    "from sklearn.datasets import fetch_california_housing"
   ]
  },
  {
   "cell_type": "markdown",
   "metadata": {},
   "source": [
    "- ***numpy***: För att hantera och manipulera numeriska data.\n",
    "- ***matplotlib.pyplot***: För att skapa grafer och visualiseringar.\n",
    "- ***train_test_split***: Används för att dela upp datasetet i tränings- och testdata.\n",
    "- ***LinearRegression***: Scikit-learns inbyggda linjära regressionsmodell.\n",
    "- ***mean_squared_error***: För att utvärdera modellens prestanda.\n",
    "- ***fetch_california_housing***: Ett inbyggt dataset i Scikit-learn för bostadspriser i Kalifornien."
   ]
  },
  {
   "cell_type": "markdown",
   "metadata": {},
   "source": [
    "### 2. Ladda datasetet"
   ]
  },
  {
   "cell_type": "code",
   "execution_count": 4,
   "metadata": {},
   "outputs": [
    {
     "name": "stdout",
     "output_type": "stream",
     "text": [
      ".. _california_housing_dataset:\n",
      "\n",
      "California Housing dataset\n",
      "--------------------------\n",
      "\n",
      "**Data Set Characteristics:**\n",
      "\n",
      ":Number of Instances: 20640\n",
      "\n",
      ":Number of Attributes: 8 numeric, predictive attributes and the target\n",
      "\n",
      ":Attribute Information:\n",
      "    - MedInc        median income in block group\n",
      "    - HouseAge      median house age in block group\n",
      "    - AveRooms      average number of rooms per household\n",
      "    - AveBedrms     average number of bedrooms per household\n",
      "    - Population    block group population\n",
      "    - AveOccup      average number of household members\n",
      "    - Latitude      block group latitude\n",
      "    - Longitude     block group longitude\n",
      "\n",
      ":Missing Attribute Values: None\n",
      "\n",
      "This dataset was obtained from the StatLib repository.\n",
      "https://www.dcc.fc.up.pt/~ltorgo/Regression/cal_housing.html\n",
      "\n",
      "The target variable is the median house value for California districts,\n",
      "expressed in hundreds of thousands of dollars ($100,000).\n",
      "\n",
      "This dataset was derived from the 1990 U.S. census, using one row per census\n",
      "block group. A block group is the smallest geographical unit for which the U.S.\n",
      "Census Bureau publishes sample data (a block group typically has a population\n",
      "of 600 to 3,000 people).\n",
      "\n",
      "A household is a group of people residing within a home. Since the average\n",
      "number of rooms and bedrooms in this dataset are provided per household, these\n",
      "columns may take surprisingly large values for block groups with few households\n",
      "and many empty houses, such as vacation resorts.\n",
      "\n",
      "It can be downloaded/loaded using the\n",
      ":func:`sklearn.datasets.fetch_california_housing` function.\n",
      "\n",
      ".. rubric:: References\n",
      "\n",
      "- Pace, R. Kelley and Ronald Barry, Sparse Spatial Autoregressions,\n",
      "  Statistics and Probability Letters, 33 (1997) 291-297\n",
      "\n"
     ]
    }
   ],
   "source": [
    "# ladda dataset\n",
    "data = fetch_california_housing()\n",
    "\n",
    "# se data och deras beskrivning\n",
    "print(data.DESCR)"
   ]
  },
  {
   "cell_type": "markdown",
   "metadata": {},
   "source": [
    "### 3. Dela data i funktioner och mål\n",
    "\n",
    "Datasetet består av flera funktioner (features) som beskriver bostäder och ett mål (target) som representerar medianvärdet av bostadspriser i olika områden. Vi delar upp dessa för att träna modellen."
   ]
  },
  {
   "cell_type": "code",
   "execution_count": 5,
   "metadata": {},
   "outputs": [
    {
     "name": "stdout",
     "output_type": "stream",
     "text": [
      "X shape: (20640, 8), y shape: (20640,)\n"
     ]
    }
   ],
   "source": [
    "# Dela upp data i funktioner (X) och målvariabel (y)\n",
    "X = data.data  # Funktioner som beskriver bostäder\n",
    "y = data.target  # Målvariabel (bostadspris)\n",
    "\n",
    "# Visa storleken på X och y\n",
    "print(f\"X shape: {X.shape}, y shape: {y.shape}\")"
   ]
  },
  {
   "cell_type": "markdown",
   "metadata": {},
   "source": [
    "- X är funktionerna (t.ex. antal rum, inkomst i området osv.)\n",
    "- y är bostadspriserna som vi vill förutsäga."
   ]
  },
  {
   "cell_type": "markdown",
   "metadata": {},
   "source": [
    "### 4. Dela upp data i tränings- och testset\n",
    "\n",
    "För att träna modellen använder vi en del av data (träningsdata) och sparar resten (testdata) för att utvärdera hur väl modellen presterar på osedda data."
   ]
  },
  {
   "cell_type": "code",
   "execution_count": 6,
   "metadata": {},
   "outputs": [
    {
     "name": "stdout",
     "output_type": "stream",
     "text": [
      "Träningsdata: X_train shape: (16512, 8), y_train shape: (16512,)\n",
      "Testdata: X_test shape: (4128, 8), y_test shape: (4128,)\n"
     ]
    }
   ],
   "source": [
    "# Dela upp data i träningsset (80%) och testset (20%)\n",
    "X_train, X_test, y_train, y_test = train_test_split(X, y, test_size=0.2, random_state=42)\n",
    "\n",
    "# Visa storleken på tränings- och testdata\n",
    "print(f\"Träningsdata: X_train shape: {X_train.shape}, y_train shape: {y_train.shape}\")\n",
    "print(f\"Testdata: X_test shape: {X_test.shape}, y_test shape: {y_test.shape}\")"
   ]
  },
  {
   "cell_type": "markdown",
   "metadata": {},
   "source": [
    "### 5. Skapa och träna linjär regressionsmodell\n",
    "\n",
    "Nu skapar vi en linjär regressionsmodell och tränar den med hjälp av vårt träningsdata"
   ]
  },
  {
   "cell_type": "code",
   "execution_count": 7,
   "metadata": {},
   "outputs": [
    {
     "name": "stdout",
     "output_type": "stream",
     "text": [
      "Modellens koefficienter: [ 4.48674910e-01  9.72425752e-03 -1.23323343e-01  7.83144907e-01\n",
      " -2.02962058e-06 -3.52631849e-03 -4.19792487e-01 -4.33708065e-01]\n",
      "Modellens intercept: -37.02327770606397\n"
     ]
    }
   ],
   "source": [
    "# Skapa en linjär regressionsmodell\n",
    "model = LinearRegression()\n",
    "\n",
    "# Träna modellen på träningsdata\n",
    "model.fit(X_train, y_train)\n",
    "\n",
    "# Visa modellens koefficienter och intercept\n",
    "print(f\"Modellens koefficienter: {model.coef_}\")\n",
    "print(f\"Modellens intercept: {model.intercept_}\")"
   ]
  },
  {
   "cell_type": "markdown",
   "metadata": {},
   "source": [
    "- ***model.coef_***: Visar vikterna för varje funktion i linjära modellen.\n",
    "- ***model.intercept_***: Är modellens intercept, alltså där linjen korsar y-axeln."
   ]
  },
  {
   "cell_type": "markdown",
   "metadata": {},
   "source": [
    "### 6. Gör förutsägelser på testset\n",
    "\n",
    "Nu när modellen är tränad kan vi använda den för att göra förutsägelser på testsetet och se hur väl den presterar."
   ]
  },
  {
   "cell_type": "code",
   "execution_count": 8,
   "metadata": {},
   "outputs": [
    {
     "name": "stdout",
     "output_type": "stream",
     "text": [
      "Faktiska priser: [0.477   0.458   5.00001 2.186   2.78   ]\n",
      "Förutsagda priser: [0.71912284 1.76401657 2.70965883 2.83892593 2.60465725]\n"
     ]
    }
   ],
   "source": [
    "# Gör förutsägelser på testdata\n",
    "y_pred = model.predict(X_test)\n",
    "\n",
    "# Visa de första 5 förutsägelserna jämfört med de faktiska bostadspriserna\n",
    "print(f\"Faktiska priser: {y_test[:5]}\")\n",
    "print(f\"Förutsagda priser: {y_pred[:5]}\")"
   ]
  },
  {
   "cell_type": "markdown",
   "metadata": {},
   "source": [
    "### 7. Utvärdera modellen\n",
    "\n",
    "Vi använder Mean Squared Error (MSE) för att mäta hur nära förutsägelserna är de faktiska värdena."
   ]
  },
  {
   "cell_type": "code",
   "execution_count": 9,
   "metadata": {},
   "outputs": [
    {
     "name": "stdout",
     "output_type": "stream",
     "text": [
      "Mean Squared Error (MSE): 0.5558915986952425\n"
     ]
    }
   ],
   "source": [
    "# Beräkna Mean Squared Error (MSE)\n",
    "mse = mean_squared_error(y_test, y_pred)\n",
    "print(f\"Mean Squared Error (MSE): {mse}\")"
   ]
  },
  {
   "cell_type": "markdown",
   "metadata": {},
   "source": [
    "### 8. Visualisera resultatet\n",
    "\n",
    "Om du vill kan du skapa en graf som visar hur de förutsagda värdena jämför sig med de faktiska värdena"
   ]
  },
  {
   "cell_type": "code",
   "execution_count": 10,
   "metadata": {},
   "outputs": [
    {
     "data": {
      "image/png": "[encoded data removed]",
      "text/plain": [
       "<Figure size 640x480 with 1 Axes>"
      ]
     },
     "metadata": {},
     "output_type": "display_data"
    }
   ],
   "source": [
    "# Skapa en scatter-plot för att visa förutsagda värden vs faktiska värden\n",
    "plt.scatter(y_test, y_pred)\n",
    "plt.plot([min(y_test), max(y_test)], [min(y_test), max(y_test)], color='red')  # Diagonal linje\n",
    "plt.xlabel('Faktiska priser')\n",
    "plt.ylabel('Förutsagda priser')\n",
    "plt.title('Faktiska priser vs Förutsagda priser')\n",
    "plt.show()"
   ]
  },
  {
   "cell_type": "markdown",
   "metadata": {},
   "source": [
    "### Sammanfattning:\n",
    "\n",
    "Vi använt en linjär regressionsmodell med hjälp av Scikit-learn för att förutsäga bostadspriser. Vi delade upp data i tränings- och testset, tränade modellen och utvärderade dess prestanda med hjälp av MSE. Linjär regression är en enkel men kraftfull metod för att modellera linjära förhållanden mellan variabler"
   ]
  }
 ],
 "metadata": {
  "kernelspec": {
   "display_name": "Python 3",
   "language": "python",
   "name": "python3"
  },
  "language_info": {
   "codemirror_mode": {
    "name": "ipython",
    "version": 3
   },
   "file_extension": ".py",
   "mimetype": "text/x-python",
   "name": "python",
   "nbconvert_exporter": "python",
   "pygments_lexer": "ipython3",
   "version": "3.12.4"
  }
 },
 "nbformat": 4,
 "nbformat_minor": 2
}
